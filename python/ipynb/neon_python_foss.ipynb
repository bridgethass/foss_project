{
 "cells": [
  {
   "cell_type": "markdown",
   "metadata": {},
   "source": [
    "## NEON API DOWNLOAD & ANALYZE ASD DATA:\n",
    "This notebook tests some functions for downloading data using the NEON API and running a basic analysis."
   ]
  },
  {
   "cell_type": "code",
   "execution_count": 1,
   "metadata": {},
   "outputs": [],
   "source": [
    "import requests, urllib, os\n",
    "\n",
    "def list_available_urls(product,site):\n",
    "    r = requests.get(\"http://data.neonscience.org/api/v0/products/\" + product)\n",
    "    for i in range(len(r.json()['data']['siteCodes'])):\n",
    "        if site in r.json()['data']['siteCodes'][i]['siteCode']:\n",
    "            data_urls=r.json()['data']['siteCodes'][i]['availableDataUrls']\n",
    "    if len(data_urls)==0:\n",
    "        print('WARNING: no urls found for product ' + product + ' at site ' + site)\n",
    "    else:\n",
    "        return data_urls\n",
    "\n",
    "def list_available_urls_by_year(product,site,year):\n",
    "    r = requests.get(\"http://data.neonscience.org/api/v0/products/\" + product)\n",
    "    for i in range(len(r.json()['data']['siteCodes'])):\n",
    "        if site in r.json()['data']['siteCodes'][i]['siteCode']:\n",
    "            all_data_urls=r.json()['data']['siteCodes'][i]['availableDataUrls']\n",
    "    data_urls = [url for url in all_data_urls if year in url]\n",
    "    if len(data_urls)==0:\n",
    "        print('WARNING: no urls found for product ' + product + ' at site ' + site + ' in year ' + year)\n",
    "    else:\n",
    "        return data_urls\n",
    "    \n",
    "def download_urls(url_list,download_folder_root,zip=False):\n",
    "    #downloads data from urls to folder, maintaining month-year folder structure\n",
    "    for url in url_list:\n",
    "        month = url.split('/')[-1]\n",
    "        download_folder = download_folder_root + month + '/'\n",
    "        if not os.path.exists(download_folder):\n",
    "            os.makedirs(download_folder)\n",
    "        r=requests.get(url)\n",
    "        files=r.json()['data']['files']\n",
    "        for i in range(len(files)):\n",
    "            if zip==False:\n",
    "                if '.zip' not in files[i]['name']:\n",
    "                    print('downloading ' + files[i]['name'] + ' to ' + download_folder)\n",
    "                    urllib.request.urlretrieve(files[i]['url'],download_folder + files[i]['name'])\n",
    "            elif zip==True:\n",
    "                if '.zip' in files[i]['name']:\n",
    "                    print('downloading ' + files[i]['name'] + ' to ' + download_folder)\n",
    "                    urllib.request.urlretrieve(files[i]['url'],download_folder + files[i]['name'])"
   ]
  },
  {
   "cell_type": "code",
   "execution_count": 2,
   "metadata": {},
   "outputs": [],
   "source": [
    "def download_file(url,filename):\n",
    "    r = requests.get(url)\n",
    "    with open(filename, 'wb') as f:\n",
    "        for chunk in r.iter_content(chunk_size=1024):\n",
    "            if chunk: # filter out keep-alive new chunks\n",
    "                f.write(chunk)\n",
    "                return\n",
    "\n",
    "def download_urls(data_urls,download_folder,ext=None): \n",
    "    #eg. download_folder = './data/lidar/...'\n",
    "    #    ext = 'CHM.tif'\n",
    "    for url in data_urls:\n",
    "        r = requests.get(url)\n",
    "        print(r.status_code)\n",
    "        files = r.json()['data']['files']\n",
    "        for i in range(len(files)):\n",
    "            size=0\n",
    "            if ext in files[i]['name']:\n",
    "                print('downloading ' + files[i]['name'] + ' to ' + download_folder)\n",
    "                size += int(files[i]['size'])\n",
    "                try:\n",
    "                    download_file(files[i]['url'],download_folder + files[i]['name'])\n",
    "                    #urllib.request.urlretrieve(files[i]['url'], aop_lidar_data_folder\n",
    "                except requests.exceptions.RequestException as e:\n",
    "                    print(e)"
   ]
  },
  {
   "cell_type": "code",
   "execution_count": null,
   "metadata": {},
   "outputs": [],
   "source": [
    "wref_fsp_urls = list_available_urls('DP1.30012.001','WREF')\n",
    "wref_fsp_urls"
   ]
  },
  {
   "cell_type": "code",
   "execution_count": null,
   "metadata": {},
   "outputs": [],
   "source": [
    "os.mkdir('./wref_fsp')\n",
    "download_urls(wref_fsp_urls,'./wref_fsp/',zip=False)"
   ]
  },
  {
   "cell_type": "code",
   "execution_count": null,
   "metadata": {},
   "outputs": [],
   "source": [
    "readme = open('./wref_fsp/2019-07/NEON.D16.WREF.DP1.30012.001.readme.20200210T191738Z.txt','r')\n",
    "print(readme.read())\n",
    "readme.close()"
   ]
  },
  {
   "cell_type": "code",
   "execution_count": null,
   "metadata": {},
   "outputs": [],
   "source": [
    "import pandas as pd\n",
    "variables = pd.read_csv('./wref_fsp/2019-07/NEON.D16.WREF.DP1.30012.001.variables.20200210T191738Z.csv')\n",
    "variables.head(5)"
   ]
  },
  {
   "cell_type": "code",
   "execution_count": null,
   "metadata": {},
   "outputs": [],
   "source": [
    "wref_chm_urls = list_available_urls_by_year('DP3.30015.001','WREF','2018')\n",
    "wref_chm_urls"
   ]
  },
  {
   "cell_type": "code",
   "execution_count": null,
   "metadata": {},
   "outputs": [],
   "source": [
    "# os.mkdir('./wref_chm')\n",
    "download_urls(wref_chm_urls,'./wref_chm/','CHM.tif')"
   ]
  },
  {
   "cell_type": "markdown",
   "metadata": {},
   "source": [
    "Product Name\tProduct Number\n",
    "Spectrometer Orthrorectified at-Sensor Radiance\tNEON.DOM.SITE.DP1.30008.001\n",
    "LiDAR Slant Range Waveform\tNEON.DOM.SITE.DP1.30001.001\n",
    "Discrete Return LiDAR Point Cloud\tNEON.DOM.SITE.DP1.30003.001\n",
    "Spectrometer Orthorectified Surface Directional Reflectance\tNEON.DOM.SITE.DP1.30006.001\n",
    "High-resolution Orthorectified camera imagery\tNEON.DOM.SITE.DP1.30010.001\n",
    "Canopy Nitrogen\tNEON.DOM.SITE.DP2.30018.001\n",
    "Canopy Water Content\tNEON.DOM.SITE.DP2.30019.001\n",
    "Canopy Xanthophyll Cycle\tNEON.DOM.SITE.DP2.30020.001\n",
    "Canopy Lignin\tNEON.DOM.SITE.DP2.30022.001\n",
    "Vegetation Indices - Spectrometer\tNEON.DOM.SITE.DP2.30026.001\n",
    "Ecosystem Structure\tNEON.DOM.SITE.DP3.30015.001\n",
    "Elevation - LiDAR\tNEON.DOM.SITE.DP3.30024.001\n",
    "Slope and Aspect - LiDAR\tNEON.DOM.SITE.DP3.30025.001\n",
    "Albedo - Spectrometer\tNEON.DOM.SITE.DP2.30011.001\n",
    "LAI - Spectrometer\tNEON.DOM.SITE.DP2.30012.001\n",
    "fPAR - Spectrometer\tNEON.DOM.SITE.DP2.30014.001\n",
    "Total Biomass Map - Spectrometer\tNEON.DOM.SITE.DP2.30016.001\n",
    "Spectrometer Orthorectified Surface Directional Reflectance\tNEON.DOM.SITE.DP3.30006.001\n",
    "High-resolution Orthorectified camera imagery mosaic\tNEON.DOM.SITE.DP3.30010.001\n",
    "Albedo - Spectrometer\tNEON.DOM.SITE.DP3.30011.001\n",
    "LAI - Spectrometer\tNEON.DOM.SITE.DP3.30012.001\n",
    "fPAR - Spectrometer\tNEON.DOM.SITE.DP3.30014.001\n",
    "Total Biomass Map - Spectrometer\tNEON.DOM.SITE.DP3.30016.001\n",
    "Canopy Nitrogen\tNEON.DOM.SITE.DP3.30018.001\n",
    "Canopy Water Content\tNEON.DOM.SITE.DP3.30019.001\n",
    "Canopy Xanthophyll Cycle\tNEON.DOM.SITE.DP3.30020.001\n",
    "Canopy Lignin\tNEON.DOM.SITE.DP3.30022.001\n",
    "Vegetation Indices - Spectrometer\tNEON.DOM.SITE.DP3.30026.001"
   ]
  },
  {
   "cell_type": "code",
   "execution_count": null,
   "metadata": {},
   "outputs": [],
   "source": [
    "wref_vegind_urls = list_available_urls_by_year('DP3.30026.001','WREF','2018')"
   ]
  },
  {
   "cell_type": "code",
   "execution_count": null,
   "metadata": {},
   "outputs": [],
   "source": [
    "wref_vegind_urls"
   ]
  },
  {
   "cell_type": "code",
   "execution_count": null,
   "metadata": {},
   "outputs": [],
   "source": [
    "os.mkdir('./wref_nis')\n",
    "download_urls(wref_vegind_urls,'./wref_nis/','580000_5075000_VegIndices.zip')"
   ]
  },
  {
   "cell_type": "code",
   "execution_count": null,
   "metadata": {},
   "outputs": [],
   "source": [
    "wref_refl_urls = list_available_urls_by_year('DP3.30006.001','WREF','2018')\n",
    "wref_refl_urls"
   ]
  },
  {
   "cell_type": "code",
   "execution_count": null,
   "metadata": {},
   "outputs": [],
   "source": [
    "download_urls(wref_refl_urls,'./wref_nis/','580000_5075000_reflectance.h5')"
   ]
  },
  {
   "cell_type": "markdown",
   "metadata": {},
   "source": [
    "Now let's download NEON_D17_SJER_DP3_257000_4112000_reflectance.h5 for the R test"
   ]
  },
  {
   "cell_type": "code",
   "execution_count": 3,
   "metadata": {},
   "outputs": [
    {
     "name": "stdout",
     "output_type": "stream",
     "text": [
      "200\n",
      "downloading NEON_D17_SJER_DP3_257000_4112000_reflectance.h5 to ./sjer_h5\n"
     ]
    }
   ],
   "source": [
    "sjer_h5_urls = list_available_urls_by_year('DP3.30006.001','SJER','2019')\n",
    "# os.mkdir('./sjer_h5')\n",
    "download_urls(sjer_h5_urls,'./sjer_h5','257000_4112000_reflectance.h5')"
   ]
  },
  {
   "cell_type": "code",
   "execution_count": null,
   "metadata": {},
   "outputs": [],
   "source": []
  }
 ],
 "metadata": {
  "kernelspec": {
   "display_name": "Python 3",
   "language": "python",
   "name": "python3"
  },
  "language_info": {
   "codemirror_mode": {
    "name": "ipython",
    "version": 3
   },
   "file_extension": ".py",
   "mimetype": "text/x-python",
   "name": "python",
   "nbconvert_exporter": "python",
   "pygments_lexer": "ipython3",
   "version": "3.7.6"
  }
 },
 "nbformat": 4,
 "nbformat_minor": 4
}
